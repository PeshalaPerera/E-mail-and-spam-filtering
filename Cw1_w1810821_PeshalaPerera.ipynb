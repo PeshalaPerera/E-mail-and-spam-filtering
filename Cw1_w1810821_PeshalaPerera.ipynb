{
  "nbformat": 4,
  "nbformat_minor": 0,
  "metadata": {
    "colab": {
      "provenance": [],
      "authorship_tag": "ABX9TyOD7KAkcZxmLC4Vs64y1wD+",
      "include_colab_link": true
    },
    "kernelspec": {
      "name": "python3",
      "display_name": "Python 3"
    },
    "language_info": {
      "name": "python"
    }
  },
  "cells": [
    {
      "cell_type": "markdown",
      "metadata": {
        "id": "view-in-github",
        "colab_type": "text"
      },
      "source": [
        "<a href=\"https://colab.research.google.com/github/PeshalaPerera/E-mail-and-spam-filtering/blob/main/Cw1_w1810821_PeshalaPerera.ipynb\" target=\"_parent\"><img src=\"https://colab.research.google.com/assets/colab-badge.svg\" alt=\"Open In Colab\"/></a>"
      ]
    },
    {
      "cell_type": "markdown",
      "source": [
        "# **Part A – Application area review**"
      ],
      "metadata": {
        "id": "DPppikLdScGH"
      }
    },
    {
      "cell_type": "markdown",
      "source": [
        "## E-mail and spam filtering\n",
        "\n",
        "Email correspondence is now a necessary component of our everyday lives in both the personal and professional domains. But the growth of spam presents a serious threat to email systems' security and effectiveness. The incorporation of Artificial Intelligence (AI) has been instrumental in augmenting the efficacy of email filtering systems over time. This literature review explores the evolution of AI applications within e-mail and spam filtering, highlighting key advancements, challenges, and future directions.\n",
        "\n",
        "\n",
        "Early attempts at e-mail filtering relied on rule-based systems that employed predefined criteria to identify and block spam. These systems, however, were not very flexible and found it difficult to keep up with the way spam was changing so quickly. An important change came with the introduction of machine learning (ML), which allowed systems to pick up on and adjust to new spam patterns without the need for explicit programming.\n",
        "\n",
        "\n",
        "Email filtering has made extensive use of machine learning algorithms, especially supervised learning techniques. Large datasets of labeled emails are analyzed by these algorithms, which then use characteristics like content, sender information, and user behavior to distinguish between legitimate and spam emails. Naive Bayes, Support Vector Machines, and, more recently, deep learning techniques like neural networks are examples of notable algorithms.\n",
        "\n",
        "The success of ML-based e-mail filtering systems relies heavily on the extraction and selection of relevant features. Word frequencies, sender reputation, and email structure are examples of features. By determining which features are the most informative, feature selection methods like Information Gain and Recursive Feature Elimination aid in improving the performance of the model.\n",
        "\n",
        "\n",
        "Even with ML-based systems' effectiveness, problems still exist. Adversarial attacks are a serious risk because they involve spammers purposefully changing features to get past filters. Furthermore, because legitimate messages far outweigh spam in email datasets, the datasets are imbalanced, which can result in biased models that favor false negatives. The goal of ongoing research is to develop more resilient and adaptable filtering mechanisms in order to address these issues.\n",
        "\n",
        "\n",
        "Email filtering has seen a rise in the use of deep learning, specifically convolutional neural networks (CNNs) and recurrent neural networks (RNNs). CNNs are good at extracting features from structured data, and RNNs are good at identifying sequential patterns in email content. Deep learning integration has demonstrated promise in raising spam detection accuracy and lowering false positives.\n",
        "\n",
        "\n",
        "Alternative methods to e-mail filtering are provided by unsupervised learning techniques like clustering and anomaly detection. While anomaly detection detects departures from typical patterns, clustering algorithms group emails according to similarities. These techniques are especially helpful for identifying spam patterns that were previously unknown, which increases the flexibility of email filtering systems.\n",
        "\n",
        "\n",
        "AI has advanced recently, going beyond content analysis to include user-centric methods. Behavioral analysis looks at past user behavior, including how they interact with emails, to find anomalies that could be signs of spam. This customized method improves accuracy by customizing the filtering mechanisms to suit the preferences of each individual user.\n",
        "\n",
        "\n",
        "Hybrid approaches, which integrate the advantages of various AI techniques, have become popular in email filtering. A more complete and flexible solution can be achieved by combining rule-based systems with deep learning and machine learning models. The effectiveness of rule-based filters for well-known threats is leveraged by hybrid systems, while the adaptability of ML and deep learning models is utilized for newly emerging spam patterns.\n",
        "\n",
        "\n",
        "There are ethical questions raised by the increasing use of AI in email filtering, especially with regard to user privacy. Analyzing user activity and content could violate people's right to privacy. For researchers and practitioners, finding a balance between efficient spam filtering and user privacy continues to be a significant challenge.\n",
        "\n",
        "The development of AI promises exciting new directions for spam and email filtering in the future. The interpretability of filtering models can be improved, offering insights into decision-making processes, through the integration of explainable AI (XAI) and advances in natural language processing (NLP). Furthermore, by enabling email clients to learn locally without jeopardizing sensitive data, research into decentralized and federated learning models seeks to address privacy concerns.\n",
        "\n",
        "\n",
        "The use of AI in spam and email filtering has advanced significantly over the years, moving from simple rule-based systems to complex deep learning models. Adversarial attacks and privacy concerns are among the ongoing challenges, but research shows that these issues are being addressed. Future innovations are anticipated, with artificial intelligence (AI) technologies serving as a key component in the development of more precise, adaptive, and privacy-conscious email filtering systems.\n",
        "\n"
      ],
      "metadata": {
        "id": "FmnTQFaQTlZs"
      }
    },
    {
      "cell_type": "markdown",
      "source": [
        "# **Part B – Compare and evaluate AI techniques**"
      ],
      "metadata": {
        "id": "iAksNKbETBeQ"
      }
    },
    {
      "cell_type": "markdown",
      "source": [
        "# **Naive Bayes**\n",
        "\n",
        "---\n",
        "\n",
        "\n",
        "## Goal:\n",
        "\n",
        "> The main goal of employing Naive Bayes for email and spam filtering is to effectively and precisely categorize incoming emails as either legitimate or spam by using a predetermined set of features.\n",
        "\n",
        "## Objective:\n",
        "> Determine whether an email is more likely to belong in the legitimate or spam class by applying the feature independence assumption. Making classifications quickly and accurately while utilizing the least amount of computational power is the aim.\n",
        "\n",
        "## Strengths:\n",
        "\n",
        "*   **Efficiency:** Naive Bayes is suited for real-time applications because it is computationally efficient and uses little resources.\n",
        "\n",
        "*   **Easy Interpretation and Implementation:** Its simplicity makes interpretation and implementation simple.\n",
        "\n",
        "*   **Robust to Irrelevant Features:** Because Naive Bayes assumes feature independence, it can handle irrelevant features with robustness.\n",
        "\n",
        "\n",
        "## Weaknesses:\n",
        "*   **Assumption of Independence:** In practical situations, the assumption of feature independence might not hold true, which could have an impact on prediction accuracy.\n",
        "\n",
        "*   **Limited Expressiveness:** Naive Bayes may not be able to handle intricate feature relationships.\n",
        "\n",
        "## Use Case(Application Example):\n",
        "> Naive Bayes can be used to filter emails by examining the sender's details, the frequency of words in the message, and other characteristics. For example, the Naive Bayes algorithm can identify an email as spam if it contains words that are commonly linked to spam.\n",
        "\n",
        "## Input Data:\n",
        "> To use Naive Bayes, a dataset containing labeled examples is necessary, along with features like sender information, word frequencies, and potentially metadata.\n",
        "\n",
        "## Expected Output:\n",
        "> The result is a probability score that shows how likely it is that an email is spam or not.\n"
      ],
      "metadata": {
        "id": "wrayqNDmZpvr"
      }
    },
    {
      "cell_type": "markdown",
      "source": [
        "# **Decision Trees**\n",
        "\n",
        "---\n",
        "\n",
        "\n",
        "## Goal:\n",
        "\n",
        "> The goal of using decision trees in spam and email filtering is to build an efficient and comprehensible model that can categorize emails according to a hierarchical set of decision rules.\n",
        "\n",
        "## Objective:\n",
        ">  Create a tree structure that recursively divides the data into subsets and guides the classification process with features like sender information, content attributes, and metadata. Establishing a transparent and comprehensible process for determining whether an email is spam or legitimate is the objective.\n",
        "\n",
        "## Strengths:\n",
        "\n",
        "*   **Interpretability:** Decision trees are very interpretable, making it possible for users to comprehend the process of making decisions.\n",
        "\n",
        "*   **Handling Non-linearity:** They are able to simulate intricate, nonlinear data relationships.\n",
        "\n",
        "\n",
        "## Weaknesses:\n",
        "*   **Overfitting:** Decision trees are prone to overfitting, which can lead to inadequate generalization, particularly with deep trees.\n",
        "\n",
        "*   **Instability:** Subtle modifications to the data can result in notably distinct tree structures.\n",
        "\n",
        "## Use Case(Application Example):\n",
        "> Decision trees are a useful tool for email filtering because they can evaluate attributes like sender reputation, content characteristics, and keyword presence. The decision nodes in the tree represent the criteria that determine whether an item is considered legitimate or spam.\n",
        "\n",
        "## Input Data:\n",
        "> Labeled training data with attributes such as sender information, content attributes, and past user interactions are necessary for decision trees.\n",
        "\n",
        "## Expected Output:\n",
        "> The result is a binary classification that shows if an email is considered spam or not.\n"
      ],
      "metadata": {
        "id": "Q1rk7qTbeunf"
      }
    },
    {
      "cell_type": "markdown",
      "source": [
        "# **Part C – Implementation**"
      ],
      "metadata": {
        "id": "hH0h4_cgTB2E"
      }
    },
    {
      "cell_type": "code",
      "source": [],
      "metadata": {
        "id": "u0L0C111bn0Z"
      },
      "execution_count": null,
      "outputs": []
    },
    {
      "cell_type": "markdown",
      "source": [
        "# **Part D – Testing**"
      ],
      "metadata": {
        "id": "JoWxvy1vTCGm"
      }
    },
    {
      "cell_type": "markdown",
      "source": [
        "# **Part E – Evaluate results**"
      ],
      "metadata": {
        "id": "_I18Bi6QTI3P"
      }
    }
  ]
}