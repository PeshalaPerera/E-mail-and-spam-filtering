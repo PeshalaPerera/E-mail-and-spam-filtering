{
  "nbformat": 4,
  "nbformat_minor": 0,
  "metadata": {
    "colab": {
      "provenance": [],
      "authorship_tag": "ABX9TyNLoM5+B76Ei5BkmZMJ+Sl5",
      "include_colab_link": true
    },
    "kernelspec": {
      "name": "python3",
      "display_name": "Python 3"
    },
    "language_info": {
      "name": "python"
    }
  },
  "cells": [
    {
      "cell_type": "markdown",
      "metadata": {
        "id": "view-in-github",
        "colab_type": "text"
      },
      "source": [
        "<a href=\"https://colab.research.google.com/github/PeshalaPerera/E-mail-and-spam-filtering/blob/main/Cw1_w1810821_PeshalaPerera.ipynb\" target=\"_parent\"><img src=\"https://colab.research.google.com/assets/colab-badge.svg\" alt=\"Open In Colab\"/></a>"
      ]
    },
    {
      "cell_type": "markdown",
      "source": [
        "# **Part A – Application area review**"
      ],
      "metadata": {
        "id": "DPppikLdScGH"
      }
    },
    {
      "cell_type": "markdown",
      "source": [],
      "metadata": {
        "id": "FmnTQFaQTlZs"
      }
    },
    {
      "cell_type": "markdown",
      "source": [
        "# **Part B – Compare and evaluate AI techniques**"
      ],
      "metadata": {
        "id": "iAksNKbETBeQ"
      }
    },
    {
      "cell_type": "markdown",
      "source": [
        "# **Part C – Implementation**"
      ],
      "metadata": {
        "id": "hH0h4_cgTB2E"
      }
    },
    {
      "cell_type": "markdown",
      "source": [
        "# **Part D – Testing**"
      ],
      "metadata": {
        "id": "JoWxvy1vTCGm"
      }
    },
    {
      "cell_type": "markdown",
      "source": [
        "# **Part E – Evaluate results**"
      ],
      "metadata": {
        "id": "_I18Bi6QTI3P"
      }
    }
  ]
}